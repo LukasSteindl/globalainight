{
 "cells": [
  {
   "cell_type": "code",
   "execution_count": 2,
   "metadata": {},
   "outputs": [
    {
     "name": "stdout",
     "output_type": "stream",
     "text": [
      "{'data': [{'ad_id': 299545880.0, 'price': 10000000, 'rooms': 2.0, 'is_old': 'Neubau', 'post_code': 1030.0, 'energy_class': 'B', 'property_type_val': 'Wohnung', 'living_area': 57.0, 'collectiondate': '2019-03-08T00:00:00.000Z', 'filename': 'dbfs:\\\\/mnt\\\\/willhaben\\\\/8032019\\\\/299545880.json'}]}\n",
      "[5811.2804309032]\n"
     ]
    }
   ],
   "source": [
    "import requests\n",
    "import json\n",
    "\n",
    "# URL for the web service\n",
    "scoring_uri = 'http://539c38f9-a36d-4a44-8801-75dfab93b7bc.northeurope.azurecontainer.io/score'\n",
    "# If the service is authenticated, set the key or token\n",
    "key = '<your key or token>'\n",
    "\n",
    "# Two sets of data to score, so we get two results back\n",
    "#data = \"{\\\"input_df\\\": [{\\\"feature1\\\": value1, \\\"feature2\\\": value2}]}\"\n",
    "\n",
    "data={\"data\":[{\"ad_id\":299545880.0,\"price\":10000000,\"rooms\":2.0,\"is_old\":\"Neubau\",\"post_code\":1030.0,\"energy_class\":\"B\",\"property_type_val\":\"Wohnung\",\"living_area\":57.0,\"collectiondate\":\"2019-03-08T00:00:00.000Z\",\"filename\":\"dbfs:\\/mnt\\/willhaben\\/8032019\\/299545880.json\"}]}\n",
    "\n",
    "print(data)\n",
    "# Convert to JSON string\n",
    "input_data = json.dumps(data)\n",
    "\n",
    "# Set the content type\n",
    "headers = {'Content-Type': 'application/json'}\n",
    "# If authentication is enabled, set the authorization header\n",
    "#headers['Authorization'] = f'Bearer {key}'\n",
    "\n",
    "# Make the request and display the response\n",
    "resp = requests.post(scoring_uri, input_data, headers=headers)\n",
    "print(resp.text)"
   ]
  },
  {
   "cell_type": "code",
   "execution_count": null,
   "metadata": {},
   "outputs": [],
   "source": []
  }
 ],
 "metadata": {
  "kernelspec": {
   "display_name": "Python 3",
   "language": "python",
   "name": "python3"
  },
  "language_info": {
   "codemirror_mode": {
    "name": "ipython",
    "version": 3
   },
   "file_extension": ".py",
   "mimetype": "text/x-python",
   "name": "python",
   "nbconvert_exporter": "python",
   "pygments_lexer": "ipython3",
   "version": "3.7.3"
  }
 },
 "nbformat": 4,
 "nbformat_minor": 2
}
